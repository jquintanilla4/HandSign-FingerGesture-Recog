{
 "cells": [
  {
   "cell_type": "code",
   "execution_count": null,
   "metadata": {},
   "outputs": [],
   "source": [
    "from pyk4a import connected_device_count\n",
    "\n",
    "num_devices = connected_device_count()\n",
    "print(f'Number of connected devices: {num_devices}')"
   ]
  },
  {
   "cell_type": "code",
   "execution_count": null,
   "metadata": {},
   "outputs": [],
   "source": [
    "from pyk4a import PyK4A, Config, ImageFormat, ColorResolution, DepthMode, FPS\n",
    "\n",
    "devices = []\n",
    "for device_id in range(6):\n",
    "    config = Config(color_format=ImageFormat.COLOR_BGRA32,\n",
    "                   color_resolution=ColorResolution.RES_720P,\n",
    "                   depth_mode=DepthMode.NFOV_2X2BINNED,\n",
    "                   camera_fps=FPS.FPS_30)\n",
    "    \n",
    "    try:\n",
    "        k4a_device = PyK4A(config)\n",
    "        k4a_device.open()\n",
    "        devices.append(k4a_device)\n",
    "        print(f'Devices {device_id} {k4a_device.serial} oppened succesfully')\n",
    "    except Exception as e:\n",
    "        print(f'Failed to open device {device_id}: {e}')"
   ]
  },
  {
   "cell_type": "code",
   "execution_count": null,
   "metadata": {},
   "outputs": [],
   "source": [
    "import cv2 as cv\n",
    "from pyk4a import PyK4A, Config, ColorResolution, DepthMode, FPS, ImageFormat\n",
    "\n",
    "def display_loop(k4a):\n",
    "    while True:\n",
    "        capture = k4a.get_capture()\n",
    "        color_image = capture.color\n",
    "        color_image = cv.cvtColor(color_image, cv.COLOR_BGRA2BGR)\n",
    "\n",
    "        cv.imshow('test window', color_image)\n",
    "\n",
    "        # Exit the loop if needed\n",
    "        if cv.waitKey(5) & 0xFF == ord('q'): # quit the program with the letter q\n",
    "            break\n",
    "\n",
    "    cv.destroyAllWindows()\n",
    "\n",
    "def main():\n",
    "    k4a = PyK4A(Config(color_format=ImageFormat.COLOR_BGRA32,\n",
    "                       color_resolution=ColorResolution.RES_720P,\n",
    "                       depth_mode=DepthMode.NFOV_2X2BINNED,\n",
    "                       camera_fps=FPS.FPS_30), device_id=1)\n",
    "\n",
    "    k4a.open()\n",
    "    k4a.start()\n",
    "\n",
    "    display_loop(k4a)\n",
    "\n",
    "    k4a.stop()\n",
    "    k4a.close()\n",
    "\n",
    "if __name__ == '__main__':\n",
    "    main()"
   ]
  }
 ],
 "metadata": {
  "language_info": {
   "name": "python"
  },
  "orig_nbformat": 4
 },
 "nbformat": 4,
 "nbformat_minor": 2
}
