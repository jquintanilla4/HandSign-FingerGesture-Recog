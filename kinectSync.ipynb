{
 "cells": [
  {
   "cell_type": "code",
   "execution_count": 1,
   "metadata": {},
   "outputs": [
    {
     "name": "stdout",
     "output_type": "stream",
     "text": [
      "Number of connected devices: 6\n"
     ]
    }
   ],
   "source": [
    "from pyk4a import connected_device_count\n",
    "\n",
    "num_devices = connected_device_count()\n",
    "print(f'Number of connected devices: {num_devices}')"
   ]
  },
  {
   "cell_type": "code",
   "execution_count": 2,
   "metadata": {},
   "outputs": [
    {
     "name": "stdout",
     "output_type": "stream",
     "text": [
      "Devices 0 000946214312 oppened succesfully\n",
      "Failed to open device 1: \n",
      "Failed to open device 2: \n",
      "Failed to open device 3: \n",
      "Failed to open device 4: \n",
      "Failed to open device 5: \n"
     ]
    }
   ],
   "source": [
    "from pyk4a import PyK4A, Config, ImageFormat, ColorResolution, DepthMode, FPS\n",
    "\n",
    "devices = []\n",
    "for device_id in range(6):\n",
    "    config = Config(color_format=ImageFormat.COLOR_BGRA32,\n",
    "                   color_resolution=ColorResolution.RES_720P,\n",
    "                   depth_mode=DepthMode.NFOV_2X2BINNED,\n",
    "                   camera_fps=FPS.FPS_30)\n",
    "    \n",
    "    try:\n",
    "        k4a_device = PyK4A(config)\n",
    "        k4a_device.open()\n",
    "        devices.append(k4a_device)\n",
    "        print(f'Devices {device_id} {k4a_device.serial} oppened succesfully')\n",
    "    except Exception as e:\n",
    "        print(f'Failed to open device {device_id}: {e}')"
   ]
  },
  {
   "cell_type": "code",
   "execution_count": 4,
   "metadata": {},
   "outputs": [
    {
     "ename": "",
     "evalue": "",
     "output_type": "error",
     "traceback": [
      "\u001b[1;31mCanceled future for execute_request message before replies were done"
     ]
    },
    {
     "ename": "",
     "evalue": "",
     "output_type": "error",
     "traceback": [
      "\u001b[1;31mThe Kernel crashed while executing code in the the current cell or a previous cell. Please review the code in the cell(s) to identify a possible cause of the failure. Click <a href='https://aka.ms/vscodeJupyterKernelCrash'>here</a> for more info. View Jupyter <a href='command:jupyter.viewOutput'>log</a> for further details."
     ]
    }
   ],
   "source": [
    "import cv2 as cv\n",
    "from pyk4a import PyK4A, Config, ColorResolution, DepthMode, FPS, ImageFormat\n",
    "\n",
    "def display_loop(k4a):\n",
    "    while True:\n",
    "        capture = k4a.get_capture()\n",
    "        color_image = capture.color\n",
    "        color_image = cv.cvtColor(color_image, cv.COLOR_BGRA2BGR)\n",
    "\n",
    "        cv.imshow('test window', color_image)\n",
    "\n",
    "        # Exit the loop if needed\n",
    "        if cv.waitKey(5) & 0xFF == ord('q'): # quit the program with the letter q\n",
    "            break\n",
    "\n",
    "    cv.destroyAllWindows()\n",
    "\n",
    "def main():\n",
    "    k4a = PyK4A(Config(color_format=ImageFormat.COLOR_BGRA32,\n",
    "                       color_resolution=ColorResolution.RES_720P,\n",
    "                       depth_mode=DepthMode.NFOV_2X2BINNED,\n",
    "                       camera_fps=FPS.FPS_30), device_id=1)\n",
    "\n",
    "    k4a.open()\n",
    "    k4a.start()\n",
    "\n",
    "    display_loop(k4a)\n",
    "\n",
    "    k4a.stop()\n",
    "    k4a.close()\n",
    "\n",
    "if __name__ == '__main__':\n",
    "    main()"
   ]
  },
  {
   "cell_type": "code",
   "execution_count": null,
   "metadata": {},
   "outputs": [],
   "source": []
  }
 ],
 "metadata": {
  "kernelspec": {
   "display_name": "hand-gesture-recog-p",
   "language": "python",
   "name": "python3"
  },
  "language_info": {
   "codemirror_mode": {
    "name": "ipython",
    "version": 3
   },
   "file_extension": ".py",
   "mimetype": "text/x-python",
   "name": "python",
   "nbconvert_exporter": "python",
   "pygments_lexer": "ipython3",
   "version": "3.10.6"
  },
  "orig_nbformat": 4
 },
 "nbformat": 4,
 "nbformat_minor": 2
}
