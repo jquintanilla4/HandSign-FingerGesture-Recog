{
 "cells": [
  {
   "cell_type": "code",
   "execution_count": null,
   "metadata": {},
   "outputs": [],
   "source": [
    "import cv2\n",
    "from pyk4a import PyK4A, Config, K4A_DEVICE_CONFIG_DEPTH_MODE_NFOV_UNBINNED, ColorResolution, FPS"
   ]
  },
  {
   "cell_type": "code",
   "execution_count": null,
   "metadata": {},
   "outputs": [],
   "source": [
    "# Open Devices\n",
    "devices = []\n",
    "for device_id in range(6):\n",
    "    k4a = PyK4A(Config(color_resolution=ColorResolution.RES_720P,\n",
    "                       depth_mode=K4A_DEVICE_CONFIG_DEPTH_MODE_NFOV_UNBINNED,\n",
    "                       camera_fps=FPS.FPS_30,\n",
    "                       synchronized_images_only=True,\n",
    "                       depth_delay_off_color_usec=0,\n",
    "                       wired_sync_mode=PyK4A.WiredSyncMode.STANDALONE if device_id == 0 else PyK4A.WiredSyncMode.SUBORDINATE,\n",
    "                       subordinate_delay_off_master_usec=0 if device_id == 0 else 100 * device_id)) # adjust as needed\n",
    "    k4a.open()\n",
    "    devices.append(k4a)"
   ]
  },
  {
   "cell_type": "code",
   "execution_count": null,
   "metadata": {},
   "outputs": [],
   "source": [
    "try:\n",
    "    while True:\n",
    "        images = []\n",
    "        for device_id, k4a in enumerate(devices):\n",
    "            capture = k4a.get_capture()\n",
    "            if capture.color is not None and capture.depth is not None:\n",
    "                color_image = cv2.cvtColor(capture.color, cv2.COLOR_BGRA2BGR)\n",
    "                images.append(color_image)\n",
    "                cv2.imshow(f'Device {device_id}', color_image)\n",
    "        \n",
    "        if cv2.waitKey(5) & 0xFF == ord('q'): # quit the program with the letter 'q'\n",
    "            break\n",
    "\n",
    "finally:\n",
    "    cv2.destroyAllWindows()\n",
    "    for k4a in devices:\n",
    "        k4a.close()"
   ]
  }
 ],
 "metadata": {
  "language_info": {
   "name": "python"
  },
  "orig_nbformat": 4
 },
 "nbformat": 4,
 "nbformat_minor": 2
}
